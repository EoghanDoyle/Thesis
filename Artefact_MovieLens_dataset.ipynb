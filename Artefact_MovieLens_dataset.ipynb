{
  "nbformat": 4,
  "nbformat_minor": 0,
  "metadata": {
    "colab": {
      "name": "Artefact_MovieLens_dataset.ipynb",
      "provenance": [],
      "collapsed_sections": [],
      "machine_shape": "hm",
      "include_colab_link": true
    },
    "kernelspec": {
      "name": "python3",
      "display_name": "Python 3"
    },
    "language_info": {
      "name": "python"
    }
  },
  "cells": [
    {
      "cell_type": "markdown",
      "metadata": {
        "id": "view-in-github",
        "colab_type": "text"
      },
      "source": [
        "<a href=\"https://colab.research.google.com/github/EoghanDoyle/Thesis/blob/main/Artefact_MovieLens_dataset.ipynb\" target=\"_parent\"><img src=\"https://colab.research.google.com/assets/colab-badge.svg\" alt=\"Open In Colab\"/></a>"
      ]
    },
    {
      "cell_type": "code",
      "metadata": {
        "id": "iLHx65jks2n3",
        "colab": {
          "base_uri": "https://localhost:8080/"
        },
        "outputId": "7f72da92-274a-482f-e584-010dd748bb9a"
      },
      "source": [
        "from google.colab import drive\n",
        "drive.mount('/content/drive')"
      ],
      "execution_count": null,
      "outputs": [
        {
          "output_type": "stream",
          "name": "stdout",
          "text": [
            "Mounted at /content/drive\n"
          ]
        }
      ]
    },
    {
      "cell_type": "code",
      "metadata": {
        "colab": {
          "base_uri": "https://localhost:8080/"
        },
        "id": "QDwEV174s8jb",
        "outputId": "ab74055c-a3eb-4396-a408-d933844953cb"
      },
      "source": [
        "!pip install surprise"
      ],
      "execution_count": null,
      "outputs": [
        {
          "output_type": "stream",
          "name": "stdout",
          "text": [
            "Collecting surprise\n",
            "  Downloading surprise-0.1-py2.py3-none-any.whl (1.8 kB)\n",
            "Collecting scikit-surprise\n",
            "  Downloading scikit-surprise-1.1.1.tar.gz (11.8 MB)\n",
            "\u001b[K     |████████████████████████████████| 11.8 MB 4.5 MB/s \n",
            "\u001b[?25hRequirement already satisfied: joblib>=0.11 in /usr/local/lib/python3.7/dist-packages (from scikit-surprise->surprise) (1.1.0)\n",
            "Requirement already satisfied: numpy>=1.11.2 in /usr/local/lib/python3.7/dist-packages (from scikit-surprise->surprise) (1.19.5)\n",
            "Requirement already satisfied: scipy>=1.0.0 in /usr/local/lib/python3.7/dist-packages (from scikit-surprise->surprise) (1.4.1)\n",
            "Requirement already satisfied: six>=1.10.0 in /usr/local/lib/python3.7/dist-packages (from scikit-surprise->surprise) (1.15.0)\n",
            "Building wheels for collected packages: scikit-surprise\n",
            "  Building wheel for scikit-surprise (setup.py) ... \u001b[?25l\u001b[?25hdone\n",
            "  Created wheel for scikit-surprise: filename=scikit_surprise-1.1.1-cp37-cp37m-linux_x86_64.whl size=1619413 sha256=86cc2d4e5b637ce45ed02e36185a420b12e20e82bddb6e36424a7f54b0c9b626\n",
            "  Stored in directory: /root/.cache/pip/wheels/76/44/74/b498c42be47b2406bd27994e16c5188e337c657025ab400c1c\n",
            "Successfully built scikit-surprise\n",
            "Installing collected packages: scikit-surprise, surprise\n",
            "Successfully installed scikit-surprise-1.1.1 surprise-0.1\n"
          ]
        }
      ]
    },
    {
      "cell_type": "code",
      "source": [
        "#Imports\n",
        "import random\n",
        "import numpy as np\n",
        "import pandas as pd\n",
        "import matplotlib.pyplot as plt\n",
        "from sklearn.preprocessing import LabelEncoder\n",
        "from sklearn.preprocessing import StandardScaler\n",
        "from sklearn import metrics\n",
        "from scipy.sparse import csr_matrix\n",
        "from sklearn.model_selection import train_test_split\n",
        "from surprise.model_selection import GridSearchCV\n",
        "from surprise import SVD\n",
        "from surprise import SVDpp\n",
        "from surprise.model_selection.split import train_test_split\n",
        "from surprise import Dataset, Reader, KNNBasic\n",
        "from surprise.model_selection import cross_validate\n",
        "from surprise import NormalPredictor\n"
      ],
      "metadata": {
        "id": "fAl4_DO6wmAo"
      },
      "execution_count": null,
      "outputs": []
    },
    {
      "cell_type": "code",
      "source": [
        "#-------------------------------------------------------Data Preprocessing -------------------------------------------------------\n",
        "\n",
        "# Importing dataset and examining it\n",
        "movies_dataset = pd.read_csv(\"/content/drive/My Drive/DBS/movies.csv\")\n",
        "# print(movies_dataset.head())\n",
        "# print(movies_dataset.shape)\n",
        "# print(movies_dataset.info())\n",
        "# print(movies_dataset.describe())\n",
        "\n",
        "ratings_dataset = pd.read_csv(\"/content/drive/My Drive/DBS/ratings.csv\")\n",
        "# print(ratings_dataset.head())\n",
        "# print(ratings_dataset.shape)\n",
        "# print(ratings_dataset.info())\n",
        "# print(ratings_dataset.describe())\n",
        "\n",
        "#merge 2 tables \n",
        "dataset = ratings_dataset.merge(movies_dataset,on='movieId', how='left')\n",
        "print(dataset)\n",
        "\n",
        "#drop unnecessary columns\n",
        "refined_dataset = dataset.drop(['timestamp','genres','title'],axis=1)\n",
        "print(refined_dataset.head())\n",
        "\n",
        "#gets total numbers of ratings for each movie\n",
        "total_ratings = pd.DataFrame(refined_dataset.groupby('movieId')['rating'].count())\n",
        "print(total_ratings.head(10))\n",
        "\n",
        "total_ratings.to_csv('/content/drive/My Drive/DBS/MovieLens_total_ratings.csv')\n",
        "\n",
        "#merge ratings df and original df\n",
        "combined_dataset = refined_dataset.merge(total_ratings,on='movieId', how='left')\n",
        "print(combined_dataset.head())\n",
        "\n",
        "min_movie_ratings = 2 #a movie has was rated at least \n",
        "min_user_ratings =  5 #a user rated movies at least\n",
        "\n",
        "                                                                                                                                                                                                                                    \n",
        "movies_filtered = combined_dataset.groupby(\"movieId\").filter(lambda x: x['movieId'].count() >= min_movie_ratings)\n",
        "movies_filtered = movies_filtered.groupby(\"userId\").filter(lambda x: x['userId'].count() >= min_user_ratings)\n",
        "\n",
        "final_movies_dataset = movies_filtered.drop(['rating_y'],axis=1)\n",
        "\n",
        "reader = Reader()\n",
        "#dataset creation\n",
        "data = Dataset.load_from_df(final_movies_dataset, reader)\n"
      ],
      "metadata": {
        "colab": {
          "base_uri": "https://localhost:8080/"
        },
        "id": "fj7JvlQAwoqT",
        "outputId": "175db06d-ac52-437a-a3a2-32c0f7bb253e"
      },
      "execution_count": null,
      "outputs": [
        {
          "output_type": "stream",
          "name": "stdout",
          "text": [
            "        userId  ...                                       genres\n",
            "0            1  ...  Adventure|Animation|Children|Comedy|Fantasy\n",
            "1            1  ...                               Comedy|Romance\n",
            "2            1  ...                        Action|Crime|Thriller\n",
            "3            1  ...                             Mystery|Thriller\n",
            "4            1  ...                       Crime|Mystery|Thriller\n",
            "...        ...  ...                                          ...\n",
            "100831     610  ...                        Drama|Horror|Thriller\n",
            "100832     610  ...                        Action|Crime|Thriller\n",
            "100833     610  ...                                       Horror\n",
            "100834     610  ...                                Action|Sci-Fi\n",
            "100835     610  ...                  Action|Crime|Drama|Thriller\n",
            "\n",
            "[100836 rows x 6 columns]\n",
            "   userId  movieId  rating\n",
            "0       1        1     4.0\n",
            "1       1        3     4.0\n",
            "2       1        6     4.0\n",
            "3       1       47     5.0\n",
            "4       1       50     5.0\n",
            "         rating\n",
            "movieId        \n",
            "1           215\n",
            "2           110\n",
            "3            52\n",
            "4             7\n",
            "5            49\n",
            "6           102\n",
            "7            54\n",
            "8             8\n",
            "9            16\n",
            "10          132\n",
            "   userId  movieId  rating_x  rating_y\n",
            "0       1        1       4.0       215\n",
            "1       1        3       4.0        52\n",
            "2       1        6       4.0       102\n",
            "3       1       47       5.0       203\n",
            "4       1       50       5.0       204\n"
          ]
        }
      ]
    },
    {
      "cell_type": "code",
      "source": [
        "#------------------------------------------------------------------ KNN --------------------------------------------------------\n",
        "param_grid = {'k':[10,20,30,40,50,60] , \n",
        "              'sim_options': {'name': ['cosine', 'pearson'] }\n",
        "              }\n",
        "\n",
        "gs = GridSearchCV(KNNBasic, param_grid, measures = ['rmse', 'mae'], cv=5)\n",
        "\n",
        "gs.fit(data)\n",
        "\n",
        "# best RMSE score\n",
        "print(\"Best RMSE score attained: \", gs.best_score['rmse'])\n",
        "print(\"Best MAE score attained: \", gs.best_score['mae'])\n",
        "\n",
        "# combination of parameters that gave the best RMSE score\n",
        "print(gs.best_params['rmse'])\n",
        "print(gs.best_params['mae'])"
      ],
      "metadata": {
        "colab": {
          "base_uri": "https://localhost:8080/"
        },
        "id": "zVsJDZZAwvb0",
        "outputId": "708aea27-a79c-4842-f68e-e985cd89dff4"
      },
      "execution_count": null,
      "outputs": [
        {
          "output_type": "stream",
          "name": "stdout",
          "text": [
            "Computing the cosine similarity matrix...\n",
            "Done computing similarity matrix.\n",
            "Computing the cosine similarity matrix...\n",
            "Done computing similarity matrix.\n",
            "Computing the cosine similarity matrix...\n",
            "Done computing similarity matrix.\n",
            "Computing the cosine similarity matrix...\n",
            "Done computing similarity matrix.\n",
            "Computing the cosine similarity matrix...\n",
            "Done computing similarity matrix.\n",
            "Computing the pearson similarity matrix...\n",
            "Done computing similarity matrix.\n",
            "Computing the pearson similarity matrix...\n",
            "Done computing similarity matrix.\n",
            "Computing the pearson similarity matrix...\n",
            "Done computing similarity matrix.\n",
            "Computing the pearson similarity matrix...\n",
            "Done computing similarity matrix.\n",
            "Computing the pearson similarity matrix...\n",
            "Done computing similarity matrix.\n",
            "Computing the cosine similarity matrix...\n",
            "Done computing similarity matrix.\n",
            "Computing the cosine similarity matrix...\n",
            "Done computing similarity matrix.\n",
            "Computing the cosine similarity matrix...\n",
            "Done computing similarity matrix.\n",
            "Computing the cosine similarity matrix...\n",
            "Done computing similarity matrix.\n",
            "Computing the cosine similarity matrix...\n",
            "Done computing similarity matrix.\n",
            "Computing the pearson similarity matrix...\n",
            "Done computing similarity matrix.\n",
            "Computing the pearson similarity matrix...\n",
            "Done computing similarity matrix.\n",
            "Computing the pearson similarity matrix...\n",
            "Done computing similarity matrix.\n",
            "Computing the pearson similarity matrix...\n",
            "Done computing similarity matrix.\n",
            "Computing the pearson similarity matrix...\n",
            "Done computing similarity matrix.\n",
            "Computing the cosine similarity matrix...\n",
            "Done computing similarity matrix.\n",
            "Computing the cosine similarity matrix...\n",
            "Done computing similarity matrix.\n",
            "Computing the cosine similarity matrix...\n",
            "Done computing similarity matrix.\n",
            "Computing the cosine similarity matrix...\n",
            "Done computing similarity matrix.\n",
            "Computing the cosine similarity matrix...\n",
            "Done computing similarity matrix.\n",
            "Computing the pearson similarity matrix...\n",
            "Done computing similarity matrix.\n",
            "Computing the pearson similarity matrix...\n",
            "Done computing similarity matrix.\n",
            "Computing the pearson similarity matrix...\n",
            "Done computing similarity matrix.\n",
            "Computing the pearson similarity matrix...\n",
            "Done computing similarity matrix.\n",
            "Computing the pearson similarity matrix...\n",
            "Done computing similarity matrix.\n",
            "Computing the cosine similarity matrix...\n",
            "Done computing similarity matrix.\n",
            "Computing the cosine similarity matrix...\n",
            "Done computing similarity matrix.\n",
            "Computing the cosine similarity matrix...\n",
            "Done computing similarity matrix.\n",
            "Computing the cosine similarity matrix...\n",
            "Done computing similarity matrix.\n",
            "Computing the cosine similarity matrix...\n",
            "Done computing similarity matrix.\n",
            "Computing the pearson similarity matrix...\n",
            "Done computing similarity matrix.\n",
            "Computing the pearson similarity matrix...\n",
            "Done computing similarity matrix.\n",
            "Computing the pearson similarity matrix...\n",
            "Done computing similarity matrix.\n",
            "Computing the pearson similarity matrix...\n",
            "Done computing similarity matrix.\n",
            "Computing the pearson similarity matrix...\n",
            "Done computing similarity matrix.\n",
            "Computing the cosine similarity matrix...\n",
            "Done computing similarity matrix.\n",
            "Computing the cosine similarity matrix...\n",
            "Done computing similarity matrix.\n",
            "Computing the cosine similarity matrix...\n",
            "Done computing similarity matrix.\n",
            "Computing the cosine similarity matrix...\n",
            "Done computing similarity matrix.\n",
            "Computing the cosine similarity matrix...\n",
            "Done computing similarity matrix.\n",
            "Computing the pearson similarity matrix...\n",
            "Done computing similarity matrix.\n",
            "Computing the pearson similarity matrix...\n",
            "Done computing similarity matrix.\n",
            "Computing the pearson similarity matrix...\n",
            "Done computing similarity matrix.\n",
            "Computing the pearson similarity matrix...\n",
            "Done computing similarity matrix.\n",
            "Computing the pearson similarity matrix...\n",
            "Done computing similarity matrix.\n",
            "Computing the cosine similarity matrix...\n",
            "Done computing similarity matrix.\n",
            "Computing the cosine similarity matrix...\n",
            "Done computing similarity matrix.\n",
            "Computing the cosine similarity matrix...\n",
            "Done computing similarity matrix.\n",
            "Computing the cosine similarity matrix...\n",
            "Done computing similarity matrix.\n",
            "Computing the cosine similarity matrix...\n",
            "Done computing similarity matrix.\n",
            "Computing the pearson similarity matrix...\n",
            "Done computing similarity matrix.\n",
            "Computing the pearson similarity matrix...\n",
            "Done computing similarity matrix.\n",
            "Computing the pearson similarity matrix...\n",
            "Done computing similarity matrix.\n",
            "Computing the pearson similarity matrix...\n",
            "Done computing similarity matrix.\n",
            "Computing the pearson similarity matrix...\n",
            "Done computing similarity matrix.\n",
            "Best RMSE score attained:  0.9650711721346632\n",
            "Best MAE score attained:  0.743244259741999\n",
            "{'k': 40, 'sim_options': {'name': 'cosine', 'user_based': True}}\n",
            "{'k': 30, 'sim_options': {'name': 'cosine', 'user_based': True}}\n"
          ]
        }
      ]
    },
    {
      "cell_type": "code",
      "source": [
        "#------------------------------------------------------------------ SVD ---------------------------------------------------------\n",
        "param_grid = {'n_epochs': [20, 30], 'lr_all': [0.005, 0.010],\n",
        "              'n_factors': [50, 100]}\n",
        "gs = GridSearchCV(SVD, param_grid, measures=['rmse', 'mae'], cv=5)\n",
        "\n",
        "gs.fit(data)\n",
        "\n",
        "# best RMSE score\n",
        "print(\"Best RMSE score attained: \", gs.best_score['rmse'])\n",
        "print(\"Best MAE score attained: \", gs.best_score['mae'])\n",
        "\n",
        "# combination of parameters that gave the best RMSE score\n",
        "print(gs.best_params['rmse'])\n",
        "print(gs.best_params['mae'])\n"
      ],
      "metadata": {
        "colab": {
          "base_uri": "https://localhost:8080/"
        },
        "id": "F1f7D1sCwx3F",
        "outputId": "8d29b1dc-1156-4029-e8c5-027b83f37bc0"
      },
      "execution_count": null,
      "outputs": [
        {
          "output_type": "stream",
          "name": "stdout",
          "text": [
            "Best RMSE score attained:  0.8661363966658149\n",
            "Best MAE score attained:  0.6630009129744017\n",
            "{'n_epochs': 30, 'lr_all': 0.005, 'n_factors': 50}\n",
            "{'n_epochs': 30, 'lr_all': 0.005, 'n_factors': 50}\n"
          ]
        }
      ]
    },
    {
      "cell_type": "code",
      "source": [
        "#------------------------------------------------------------------ SVD++ ---------------------------------------------------------\n",
        "param_grid = {'n_epochs': [20, 30], 'lr_all': [0.005, 0.010],\n",
        "              'n_factors': [50, 100]}\n",
        "gs = GridSearchCV(SVDpp, param_grid, measures=['rmse', 'mae'], cv=5)\n",
        "\n",
        "gs.fit(data)\n",
        "\n",
        "# best RMSE score\n",
        "print(\"Best RMSE score attained: \", gs.best_score['rmse'])\n",
        "print(\"Best MAE score attained: \", gs.best_score['mae'])\n",
        "\n",
        "# combination of parameters that gave the best RMSE score\n",
        "print(gs.best_params['rmse'])\n",
        "print(gs.best_params['mae'])\n"
      ],
      "metadata": {
        "id": "NtSrQKv8w0ll",
        "colab": {
          "base_uri": "https://localhost:8080/"
        },
        "outputId": "8c72cd33-04a4-487f-d756-b31b7b0bfa49"
      },
      "execution_count": null,
      "outputs": [
        {
          "output_type": "stream",
          "name": "stdout",
          "text": [
            "Best RMSE score attained:  0.8564539756033683\n",
            "Best MAE score attained:  0.6571536659099013\n",
            "{'n_epochs': 20, 'lr_all': 0.005, 'n_factors': 50}\n",
            "{'n_epochs': 30, 'lr_all': 0.005, 'n_factors': 50}\n"
          ]
        }
      ]
    },
    {
      "cell_type": "code",
      "source": [
        "#------------------------------------------------------------------ Random ---------------------------------------------------------\n",
        "Random = NormalPredictor()\n",
        "results = cross_validate(Random, data, measures=['RMSE', 'MAE'], cv=5, verbose=False)\n",
        "print(results)\n"
      ],
      "metadata": {
        "colab": {
          "base_uri": "https://localhost:8080/"
        },
        "id": "XZhzBasHw290",
        "outputId": "d89e5159-dbe9-43dc-a623-f465d8cd6a55"
      },
      "execution_count": null,
      "outputs": [
        {
          "output_type": "stream",
          "name": "stdout",
          "text": [
            "{'test_rmse': array([1.41362941, 1.42174574, 1.40787943, 1.41527353, 1.41053732]), 'test_mae': array([1.13144761, 1.1345179 , 1.12605281, 1.12915295, 1.12816007]), 'fit_time': (0.13488507270812988, 0.16836142539978027, 0.16152667999267578, 0.16358613967895508, 0.16169428825378418), 'test_time': (0.16257357597351074, 0.16051769256591797, 0.14049768447875977, 0.2979738712310791, 0.1419391632080078)}\n"
          ]
        }
      ]
    }
  ]
}