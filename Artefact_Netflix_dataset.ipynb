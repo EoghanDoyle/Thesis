{
  "nbformat": 4,
  "nbformat_minor": 0,
  "metadata": {
    "colab": {
      "name": "Artefact_Netflix_dataset.ipynb",
      "provenance": [],
      "machine_shape": "hm",
      "collapsed_sections": [],
      "include_colab_link": true
    },
    "kernelspec": {
      "name": "python3",
      "display_name": "Python 3"
    },
    "language_info": {
      "name": "python"
    }
  },
  "cells": [
    {
      "cell_type": "markdown",
      "metadata": {
        "id": "view-in-github",
        "colab_type": "text"
      },
      "source": [
        "<a href=\"https://colab.research.google.com/github/EoghanDoyle/Thesis/blob/main/Artefact_Netflix_dataset.ipynb\" target=\"_parent\"><img src=\"https://colab.research.google.com/assets/colab-badge.svg\" alt=\"Open In Colab\"/></a>"
      ]
    },
    {
      "cell_type": "code",
      "execution_count": null,
      "metadata": {
        "colab": {
          "base_uri": "https://localhost:8080/"
        },
        "id": "fZchW-i1Cy1T",
        "outputId": "1bfe19d7-4970-465d-dd74-3e15fb4c57a0"
      },
      "outputs": [
        {
          "output_type": "stream",
          "name": "stdout",
          "text": [
            "Mounted at /content/drive\n"
          ]
        }
      ],
      "source": [
        "from google.colab import drive\n",
        "drive.mount('/content/drive')"
      ]
    },
    {
      "cell_type": "code",
      "source": [
        "!pip install surprise"
      ],
      "metadata": {
        "colab": {
          "base_uri": "https://localhost:8080/"
        },
        "id": "GlKvD16TDQfH",
        "outputId": "2c90f9bc-a9f4-4cb6-d98e-f6b59669b31c"
      },
      "execution_count": null,
      "outputs": [
        {
          "output_type": "stream",
          "name": "stdout",
          "text": [
            "Collecting surprise\n",
            "  Downloading surprise-0.1-py2.py3-none-any.whl (1.8 kB)\n",
            "Collecting scikit-surprise\n",
            "  Downloading scikit-surprise-1.1.1.tar.gz (11.8 MB)\n",
            "\u001b[K     |████████████████████████████████| 11.8 MB 5.2 MB/s \n",
            "\u001b[?25hRequirement already satisfied: joblib>=0.11 in /usr/local/lib/python3.7/dist-packages (from scikit-surprise->surprise) (1.1.0)\n",
            "Requirement already satisfied: numpy>=1.11.2 in /usr/local/lib/python3.7/dist-packages (from scikit-surprise->surprise) (1.19.5)\n",
            "Requirement already satisfied: scipy>=1.0.0 in /usr/local/lib/python3.7/dist-packages (from scikit-surprise->surprise) (1.4.1)\n",
            "Requirement already satisfied: six>=1.10.0 in /usr/local/lib/python3.7/dist-packages (from scikit-surprise->surprise) (1.15.0)\n",
            "Building wheels for collected packages: scikit-surprise\n",
            "  Building wheel for scikit-surprise (setup.py) ... \u001b[?25l\u001b[?25hdone\n",
            "  Created wheel for scikit-surprise: filename=scikit_surprise-1.1.1-cp37-cp37m-linux_x86_64.whl size=1619422 sha256=ce3fb0126d1fc94cf2192072088323c9614a74f6cae0ab37706ef655e7c210fd\n",
            "  Stored in directory: /root/.cache/pip/wheels/76/44/74/b498c42be47b2406bd27994e16c5188e337c657025ab400c1c\n",
            "Successfully built scikit-surprise\n",
            "Installing collected packages: scikit-surprise, surprise\n",
            "Successfully installed scikit-surprise-1.1.1 surprise-0.1\n"
          ]
        }
      ]
    },
    {
      "cell_type": "code",
      "source": [
        "#Imports\n",
        "import random\n",
        "import numpy as np\n",
        "import pandas as pd\n",
        "import matplotlib.pyplot as plt\n",
        "from sklearn.preprocessing import LabelEncoder\n",
        "from sklearn.preprocessing import StandardScaler\n",
        "from sklearn import metrics\n",
        "from scipy.sparse import csr_matrix\n",
        "from sklearn.model_selection import train_test_split\n",
        "from surprise.model_selection import GridSearchCV\n",
        "from surprise import SVD\n",
        "from surprise import SVDpp\n",
        "from surprise.model_selection.split import train_test_split\n",
        "from surprise import Dataset, Reader, KNNBasic\n",
        "from surprise.model_selection import cross_validate\n",
        "from surprise import NormalPredictor\n",
        "\n"
      ],
      "metadata": {
        "id": "joSA5v2Wx4IP"
      },
      "execution_count": null,
      "outputs": []
    },
    {
      "cell_type": "code",
      "source": [
        "#-------------------------------------------------------Data Preprocessing -------------------------------------------------------\n",
        "\n",
        "\n",
        "# Importing dataset and examining it\n",
        "movies_dataset = pd.read_csv(\"/content/drive/My Drive/DBS/Netflix_dataset.csv\")\n",
        "# print(movies_dataset.head())\n",
        "# print(movies_dataset.shape)\n",
        "# print(movies_dataset.info())\n",
        "# print(movies_dataset.describe())\n",
        "\n",
        "#gets total numbers of ratings for each movie\n",
        "total_ratings = pd.DataFrame(movies_dataset.groupby('MovieId')['Rating'].count())\n",
        "print(total_ratings.head(10))\n",
        "\n",
        "total_ratings.to_csv('/content/drive/My Drive/DBS/Netflix_total_ratings.csv')\n",
        "\n",
        "#merge ratings df and original df\n",
        "combined_dataset = movies_dataset.merge(total_ratings,on='MovieId', how='left')\n",
        "print(combined_dataset.head())\n",
        "\n",
        "min_movie_ratings = 2 #a movie has was rated at least \n",
        "min_user_ratings =  5 #a user rated movies at least\n",
        "\n",
        "movies_filtered = combined_dataset.groupby(\"MovieId\").filter(lambda x: x['MovieId'].count() >= min_movie_ratings)\n",
        "movies_filtered = movies_filtered.groupby(\"UserId\").filter(lambda x: x['UserId'].count() >= min_user_ratings)\n",
        "\n",
        "final_movies_dataset = movies_filtered.drop(['Rating_y', 'Unnamed: 0'],axis=1)\n",
        "\n",
        "final_movies_dataset.to_csv('/content/drive/My Drive/DBS/Processed_Real_netflix_dataset.csv')\n",
        "\n",
        "reader = Reader()\n",
        "#dataset creation\n",
        "data = Dataset.load_from_df(final_movies_dataset, reader)"
      ],
      "metadata": {
        "colab": {
          "base_uri": "https://localhost:8080/"
        },
        "id": "70Vosqwqx6n7",
        "outputId": "a4a32b08-021b-4a00-b95a-ee374198ca95"
      },
      "execution_count": null,
      "outputs": [
        {
          "output_type": "stream",
          "name": "stdout",
          "text": [
            "         Rating\n",
            "MovieId        \n",
            "1           243\n",
            "2            66\n",
            "3            48\n",
            "4            28\n",
            "5            24\n",
            "6           101\n",
            "7            38\n",
            "8             4\n",
            "9            12\n",
            "10           98\n",
            "   Unnamed: 0  UserId  MovieId  Rating_x  Rating_y\n",
            "0      492068    3026     2134         3        58\n",
            "1       33921     229     1735         5        36\n",
            "2      225139    1361     1207         5        87\n",
            "3      459670    2832     1035         3        86\n",
            "4      645914    3887      337         3        76\n"
          ]
        }
      ]
    },
    {
      "cell_type": "code",
      "source": [
        "#------------------------------------------------------------------ KNN --------------------------------------------------------\n",
        "param_grid = {'k':[10,20,30,40,50,60] , \n",
        "              'sim_options': {'name': ['cosine', 'pearson'] }\n",
        "              }\n",
        "\n",
        "gs = GridSearchCV(KNNBasic, param_grid, measures = ['rmse', 'mae'], cv=5)\n",
        "\n",
        "gs.fit(data)\n",
        "\n",
        "# best RMSE score\n",
        "print(\"Best KNN RMSE score attained: \", gs.best_score['rmse'])\n",
        "print(\"Best KNN MAE score attained: \", gs.best_score['mae'])\n",
        "\n",
        "# combination of parameters that gave the best RMSE score\n",
        "print(gs.best_params['rmse'])\n",
        "print(gs.best_params['mae'])"
      ],
      "metadata": {
        "colab": {
          "base_uri": "https://localhost:8080/"
        },
        "id": "0ItEp9lTx914",
        "outputId": "db4a53a9-f21e-412b-d01e-0adda4099b9c"
      },
      "execution_count": null,
      "outputs": [
        {
          "output_type": "stream",
          "name": "stdout",
          "text": [
            "Computing the cosine similarity matrix...\n",
            "Done computing similarity matrix.\n",
            "Computing the cosine similarity matrix...\n",
            "Done computing similarity matrix.\n",
            "Computing the cosine similarity matrix...\n",
            "Done computing similarity matrix.\n",
            "Computing the cosine similarity matrix...\n",
            "Done computing similarity matrix.\n",
            "Computing the cosine similarity matrix...\n",
            "Done computing similarity matrix.\n",
            "Computing the pearson similarity matrix...\n",
            "Done computing similarity matrix.\n",
            "Computing the pearson similarity matrix...\n",
            "Done computing similarity matrix.\n",
            "Computing the pearson similarity matrix...\n",
            "Done computing similarity matrix.\n",
            "Computing the pearson similarity matrix...\n",
            "Done computing similarity matrix.\n",
            "Computing the pearson similarity matrix...\n",
            "Done computing similarity matrix.\n",
            "Computing the cosine similarity matrix...\n",
            "Done computing similarity matrix.\n",
            "Computing the cosine similarity matrix...\n",
            "Done computing similarity matrix.\n",
            "Computing the cosine similarity matrix...\n",
            "Done computing similarity matrix.\n",
            "Computing the cosine similarity matrix...\n",
            "Done computing similarity matrix.\n",
            "Computing the cosine similarity matrix...\n",
            "Done computing similarity matrix.\n",
            "Computing the pearson similarity matrix...\n",
            "Done computing similarity matrix.\n",
            "Computing the pearson similarity matrix...\n",
            "Done computing similarity matrix.\n",
            "Computing the pearson similarity matrix...\n",
            "Done computing similarity matrix.\n",
            "Computing the pearson similarity matrix...\n",
            "Done computing similarity matrix.\n",
            "Computing the pearson similarity matrix...\n",
            "Done computing similarity matrix.\n",
            "Computing the cosine similarity matrix...\n",
            "Done computing similarity matrix.\n",
            "Computing the cosine similarity matrix...\n",
            "Done computing similarity matrix.\n",
            "Computing the cosine similarity matrix...\n",
            "Done computing similarity matrix.\n",
            "Computing the cosine similarity matrix...\n",
            "Done computing similarity matrix.\n",
            "Computing the cosine similarity matrix...\n",
            "Done computing similarity matrix.\n",
            "Computing the pearson similarity matrix...\n",
            "Done computing similarity matrix.\n",
            "Computing the pearson similarity matrix...\n",
            "Done computing similarity matrix.\n",
            "Computing the pearson similarity matrix...\n",
            "Done computing similarity matrix.\n",
            "Computing the pearson similarity matrix...\n",
            "Done computing similarity matrix.\n",
            "Computing the pearson similarity matrix...\n",
            "Done computing similarity matrix.\n",
            "Computing the cosine similarity matrix...\n",
            "Done computing similarity matrix.\n",
            "Computing the cosine similarity matrix...\n",
            "Done computing similarity matrix.\n",
            "Computing the cosine similarity matrix...\n",
            "Done computing similarity matrix.\n",
            "Computing the cosine similarity matrix...\n",
            "Done computing similarity matrix.\n",
            "Computing the cosine similarity matrix...\n",
            "Done computing similarity matrix.\n",
            "Computing the pearson similarity matrix...\n",
            "Done computing similarity matrix.\n",
            "Computing the pearson similarity matrix...\n",
            "Done computing similarity matrix.\n",
            "Computing the pearson similarity matrix...\n",
            "Done computing similarity matrix.\n",
            "Computing the pearson similarity matrix...\n",
            "Done computing similarity matrix.\n",
            "Computing the pearson similarity matrix...\n",
            "Done computing similarity matrix.\n",
            "Computing the cosine similarity matrix...\n",
            "Done computing similarity matrix.\n",
            "Computing the cosine similarity matrix...\n",
            "Done computing similarity matrix.\n",
            "Computing the cosine similarity matrix...\n",
            "Done computing similarity matrix.\n",
            "Computing the cosine similarity matrix...\n",
            "Done computing similarity matrix.\n",
            "Computing the cosine similarity matrix...\n",
            "Done computing similarity matrix.\n",
            "Computing the pearson similarity matrix...\n",
            "Done computing similarity matrix.\n",
            "Computing the pearson similarity matrix...\n",
            "Done computing similarity matrix.\n",
            "Computing the pearson similarity matrix...\n",
            "Done computing similarity matrix.\n",
            "Computing the pearson similarity matrix...\n",
            "Done computing similarity matrix.\n",
            "Computing the pearson similarity matrix...\n",
            "Done computing similarity matrix.\n",
            "Computing the cosine similarity matrix...\n",
            "Done computing similarity matrix.\n",
            "Computing the cosine similarity matrix...\n",
            "Done computing similarity matrix.\n",
            "Computing the cosine similarity matrix...\n",
            "Done computing similarity matrix.\n",
            "Computing the cosine similarity matrix...\n",
            "Done computing similarity matrix.\n",
            "Computing the cosine similarity matrix...\n",
            "Done computing similarity matrix.\n",
            "Computing the pearson similarity matrix...\n",
            "Done computing similarity matrix.\n",
            "Computing the pearson similarity matrix...\n",
            "Done computing similarity matrix.\n",
            "Computing the pearson similarity matrix...\n",
            "Done computing similarity matrix.\n",
            "Computing the pearson similarity matrix...\n",
            "Done computing similarity matrix.\n",
            "Computing the pearson similarity matrix...\n",
            "Done computing similarity matrix.\n",
            "Best KNN RMSE score attained:  1.030903134128223\n",
            "Best KNN MAE score attained:  0.8170669963049761\n",
            "{'k': 60, 'sim_options': {'name': 'cosine', 'user_based': True}}\n",
            "{'k': 60, 'sim_options': {'name': 'cosine', 'user_based': True}}\n"
          ]
        }
      ]
    },
    {
      "cell_type": "code",
      "source": [
        "#------------------------------------------------------------------ SVD ---------------------------------------------------------\n",
        "param_grid = {'n_epochs': [20, 30], 'lr_all': [0.005, 0.010],\n",
        "              'n_factors': [50, 100]}\n",
        "gs = GridSearchCV(SVD, param_grid, measures=['rmse', 'mae'], cv=5)\n",
        "\n",
        "gs.fit(data)\n",
        "\n",
        "# best RMSE score\n",
        "print(\"Best SVD RMSE score attained: \", gs.best_score['rmse'])\n",
        "print(\"Best SVD MAE score attained: \", gs.best_score['mae'])\n",
        "\n",
        "# combination of parameters that gave the best RMSE score\n",
        "print(gs.best_params['rmse'])\n",
        "print(gs.best_params['mae'])"
      ],
      "metadata": {
        "colab": {
          "base_uri": "https://localhost:8080/"
        },
        "id": "wfZ_qwv0yAq1",
        "outputId": "719384a8-ba1b-4e0c-d915-a98781f9f5a4"
      },
      "execution_count": null,
      "outputs": [
        {
          "output_type": "stream",
          "name": "stdout",
          "text": [
            "Best SVD RMSE score attained:  0.946492950899696\n",
            "Best SVD MAE score attained:  0.7507238891107424\n",
            "{'n_epochs': 20, 'lr_all': 0.005, 'n_factors': 50}\n",
            "{'n_epochs': 20, 'lr_all': 0.005, 'n_factors': 50}\n"
          ]
        }
      ]
    },
    {
      "cell_type": "code",
      "source": [
        "#------------------------------------------------------------------ SVD++ ---------------------------------------------------------\n",
        "param_grid = {'n_epochs': [20, 30], 'lr_all': [0.005, 0.010],\n",
        "              'n_factors': [50, 100]}\n",
        "gs = GridSearchCV(SVDpp, param_grid, measures=['rmse', 'mae'], cv=5)\n",
        "\n",
        "gs.fit(data)\n",
        "\n",
        "# best RMSE score\n",
        "print(\"Best SVD++ RMSE score attained: \", gs.best_score['rmse'])\n",
        "print(\"Best SVD++ MAE score attained: \", gs.best_score['mae'])\n",
        "\n",
        "# combination of parameters that gave the best RMSE score\n",
        "print(gs.best_params['rmse'])\n",
        "print(gs.best_params['mae'])\n"
      ],
      "metadata": {
        "colab": {
          "base_uri": "https://localhost:8080/"
        },
        "id": "ex-ou3fsyDRq",
        "outputId": "0330b51c-18dd-4982-ee85-d8fe1e65e22d"
      },
      "execution_count": null,
      "outputs": [
        {
          "output_type": "stream",
          "name": "stdout",
          "text": [
            "Best SVD++ RMSE score attained:  0.9465252170896434\n",
            "Best SVD++ MAE score attained:  0.7507221071374255\n",
            "{'n_epochs': 20, 'lr_all': 0.005, 'n_factors': 50}\n",
            "{'n_epochs': 20, 'lr_all': 0.005, 'n_factors': 50}\n"
          ]
        }
      ]
    },
    {
      "cell_type": "code",
      "source": [
        "#------------------------------------------------------------------ Random ---------------------------------------------------------\n",
        "Random = NormalPredictor()\n",
        "results = cross_validate(Random, data, measures=['RMSE', 'MAE'], cv=5, verbose=False)\n",
        "print(results)\n"
      ],
      "metadata": {
        "colab": {
          "base_uri": "https://localhost:8080/"
        },
        "id": "7JeZ1jKsyGhe",
        "outputId": "2b8457bf-ee1a-42e4-dc05-8daa30809d7d"
      },
      "execution_count": null,
      "outputs": [
        {
          "output_type": "stream",
          "name": "stdout",
          "text": [
            "{'test_rmse': array([1.50294294, 1.50002149, 1.50011313, 1.50509387, 1.50771282]), 'test_mae': array([1.20235141, 1.20362358, 1.20406339, 1.20579343, 1.20709133]), 'fit_time': (0.13940644264221191, 0.1843719482421875, 0.18368196487426758, 0.18352460861206055, 0.1842184066772461), 'test_time': (0.14230942726135254, 0.23339223861694336, 0.14002490043640137, 0.2276778221130371, 0.14281558990478516)}\n"
          ]
        }
      ]
    }
  ]
}